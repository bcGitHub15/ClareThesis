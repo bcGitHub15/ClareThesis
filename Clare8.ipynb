{
 "cells": [
  {
   "cell_type": "markdown",
   "id": "ffc18350-68bd-42a2-94a7-98a5ecdb211a",
   "metadata": {},
   "source": [
    "# Noise Power in the Time and Frequency Domains\n",
    "\n",
    "While I have mostly worked with white noise, Clare has been working with Gaussian noise, where the probability density for obtaining a value y is given by\n",
    "$$P(y)=\\dfrac{1}{\\sigma \\sqrt{2 \\pi}} e^{-(y-y_0)^{2}/(2\\sigma{}^{2}},$$\n",
    "where $y_0$ is the mean value and $\\sigma$ the standard deviation of the values.\n",
    "\n",
    "We should be able to deduce a number of properties of sequences of numbers selected from such a distribution, technically called a *Gaussian Process*. Alas, I lack the statistical background to do this theoretically so let's explore it numerically to build some understanding.\n",
    "\n",
    "Let's start with the power in a Gaussian signal as a function of the number of samples."
   ]
  },
  {
   "cell_type": "code",
   "execution_count": 1,
   "id": "1e32dc4f-6b75-4e5f-b4fa-849f98a6d9ff",
   "metadata": {
    "tags": []
   },
   "outputs": [],
   "source": [
    "import numpy as np\n",
    "import matplotlib.pyplot as plt"
   ]
  },
  {
   "cell_type": "markdown",
   "id": "f7bb33f7-3cdf-404e-948d-c5d8a20a63b3",
   "metadata": {},
   "source": [
    "I will start by making several samples of noise of different sizes. I am going to use zero-mean and start with a standard deviation of 1."
   ]
  },
  {
   "cell_type": "code",
   "execution_count": 4,
   "id": "47681c55-495f-4338-bcae-e388b26a8bb1",
   "metadata": {
    "tags": []
   },
   "outputs": [],
   "source": [
    "t100 = np.linspace(0, 100, 100)\n",
    "t1k = np.linspace(0, 1_000, 1_000)\n",
    "t10k = np.linspace(0, 10_000, 10_000)\n",
    "n100 = np.random.normal(loc=0.0, scale=1.0, size=100)\n",
    "n1k = np.random.normal(loc=0.0, scale=1.0, size=1_000)\n",
    "n10k = np.random.normal(loc=0.0, scale=1.0, size=10_000)"
   ]
  },
  {
   "cell_type": "code",
   "execution_count": 5,
   "id": "75a42ab4-6573-420f-9c1e-b611090fe5d9",
   "metadata": {
    "tags": []
   },
   "outputs": [
    {
     "data": {
      "text/plain": [
       "[<matplotlib.lines.Line2D at 0x16530bdc0>]"
      ]
     },
     "execution_count": 5,
     "metadata": {},
     "output_type": "execute_result"
    },
    {
     "data": {
      "image/png": "[encoded data removed]",
      "text/plain": [
       "<Figure size 640x480 with 1 Axes>"
      ]
     },
     "metadata": {},
     "output_type": "display_data"
    }
   ],
   "source": [
    "plt.plot(t1k, n1k, '.', markersize=2)"
   ]
  },
  {
   "cell_type": "markdown",
   "id": "02bc46a9-676f-4076-a0e5-6ba8846eda0e",
   "metadata": {},
   "source": [
    "Highly believable. Now compute the squared power in each."
   ]
  },
  {
   "cell_type": "code",
   "execution_count": 6,
   "id": "8eb01a18-b407-4564-a47a-b96b5820843f",
   "metadata": {
    "tags": []
   },
   "outputs": [
    {
     "name": "stdout",
     "output_type": "stream",
     "text": [
      "85.86743324410436 1002.6628049610475 10087.373895883538\n"
     ]
    }
   ],
   "source": [
    "sp100 = np.sum(n100 * n100)\n",
    "sp1k = np.sum(n1k * n1k)\n",
    "sp10k = np.sum(n10k * n10k)\n",
    "print(sp100, sp1k, sp10k)"
   ]
  },
  {
   "cell_type": "markdown",
   "id": "c2bfe289-87ca-405a-bb54-ba800fc97c95",
   "metadata": {},
   "source": [
    "That strongly suggests the obvious result that the total power (squared amplitude) simply scales as the number of points.\n",
    "\n",
    "Now repeat for $\\sigma=2$."
   ]
  },
  {
   "cell_type": "code",
   "execution_count": 7,
   "id": "c198cc23-0cad-4dc6-b44c-254489c786d1",
   "metadata": {
    "tags": []
   },
   "outputs": [],
   "source": [
    "n100s2 = np.random.normal(loc=0.0, scale=2.0, size=100)\n",
    "n1ks2 = np.random.normal(loc=0.0, scale=2.0, size=1_000)\n",
    "n10ks2 = np.random.normal(loc=0.0, scale=2.0, size=10_000)"
   ]
  },
  {
   "cell_type": "code",
   "execution_count": 8,
   "id": "3e6676cd-ae81-47c2-bead-24d9ad53d6bb",
   "metadata": {
    "tags": []
   },
   "outputs": [
    {
     "name": "stdout",
     "output_type": "stream",
     "text": [
      "406.613984239915 4062.3581889568713 39543.08929115671\n"
     ]
    }
   ],
   "source": [
    "sp100s2 = np.sum(n100s2 * n100s2)\n",
    "sp1ks2 = np.sum(n1ks2 * n1ks2)\n",
    "sp10ks2 = np.sum(n10ks2 * n10ks2)\n",
    "print(sp100s2, sp1ks2, sp10ks2)"
   ]
  },
  {
   "cell_type": "markdown",
   "id": "f734e5f7-c524-4776-bb00-e5fdcf889d65",
   "metadata": {},
   "source": [
    "From this we deduce that if the $x_j$ are chosen from a Gaussian process with zero mean and standard deviation $\\sigma$ then\n",
    "$$\\sum_j^Nx_j\\simeq{}N\\sigma^2.$$"
   ]
  },
  {
   "cell_type": "markdown",
   "id": "2400e071-e021-4800-b266-327bd737cbee",
   "metadata": {},
   "source": [
    "What happens to the standard deviation? My expectation is that the standard deviation simply converges to the appropriate $\\sigma$, otherwise it wouldn't be a standard deviation!"
   ]
  },
  {
   "cell_type": "code",
   "execution_count": 10,
   "id": "43a6a7d3-0826-415c-ac40-85525ca7bf40",
   "metadata": {
    "tags": []
   },
   "outputs": [
    {
     "name": "stdout",
     "output_type": "stream",
     "text": [
      "0.926614319827957 1.0007488123676107 1.0043330560504347\n",
      "1.999136494184721 2.0153197239720373 1.9884993918860254\n"
     ]
    }
   ],
   "source": [
    "print(np.std(n100), np.std(n1k), np.std(n10k))\n",
    "print(np.std(n100s2), np.std(n1ks2), np.std(n10ks2))"
   ]
  },
  {
   "cell_type": "markdown",
   "id": "71e171c6-d944-4041-8199-5401fce48661",
   "metadata": {},
   "source": [
    "That seems to confirm that.\n",
    "\n",
    "Now what happens in the Fourier domain?"
   ]
  },
  {
   "cell_type": "code",
   "execution_count": 12,
   "id": "ebd0daf7-d9e7-4b81-9bf6-f4a77a5de417",
   "metadata": {
    "tags": []
   },
   "outputs": [
    {
     "name": "stdout",
     "output_type": "stream",
     "text": [
      "(4319.354006767914+1.5838231191108406e-15j) (502888.8383339577+9.85814294979933e-13j) (50440681.74364208+2.3879494666715097e-11j)\n"
     ]
    }
   ],
   "source": [
    "f100 = np.fft.rfft(n100)\n",
    "f1k = np.fft.rfft(n1k)\n",
    "f10k = np.fft.rfft(n10k)\n",
    "pf100 = np.sum(f100.conjugate() * f100)\n",
    "pf1k = np.sum(f1k.conjugate() * f1k)\n",
    "pf10k = np.sum(f10k.conjugate() * f10k)\n",
    "print(pf100, pf1k , pf10k)"
   ]
  },
  {
   "cell_type": "markdown",
   "id": "b2d69389-5643-4d4c-a96a-413369990e5b",
   "metadata": {},
   "source": [
    "Interesting!\n",
    "\n",
    "Parseval says that we should expect that\n",
    "$$\\sum_{j=0}^{N-1}|x_j|^2 = \\dfrac{1}{N}\\sum_{k=0}^{N-1}|F_k|^2,$$\n",
    "which would lead us to think that the new sums should be N times the old.\n",
    "\n",
    "BUT, we did 1-sided DFTs because we used the *rfft* function from *numpy* so that we should have included that in our computations, like this."
   ]
  },
  {
   "cell_type": "code",
   "execution_count": 13,
   "id": "38b217d2-c21f-4a0c-a10c-c6615f127134",
   "metadata": {
    "tags": []
   },
   "outputs": [
    {
     "name": "stdout",
     "output_type": "stream",
     "text": [
      "(8638.708013535828+3.167646238221681e-15j) (1005777.6766679154+1.971628589959866e-12j) (100881363.48728415+4.7758989333430194e-11j)\n"
     ]
    }
   ],
   "source": [
    "print(2 * pf100, 2 * pf1k, 2 * pf10k)"
   ]
  },
  {
   "cell_type": "markdown",
   "id": "437fed43-a5ec-4c0f-9ec6-e8f61466452c",
   "metadata": {},
   "source": [
    "That looks a lot more reasonable. Our first value is close to $10^3 = 100 \\times 100$, our second to $10^6 = 1000 \\times 1000$, and or third to $10^8 = 10,000 \\times 10,000$. This suggests that we sort of know what we are doing and that Parseval's theorem works as expected.\n",
    "\n",
    "I think that linearity guarantees we are fine for the higher $\\sigma$ case but we might just as well check."
   ]
  },
  {
   "cell_type": "code",
   "execution_count": 14,
   "id": "028e1f40-c89d-40a8-826f-4af5ab48738b",
   "metadata": {
    "tags": []
   },
   "outputs": [
    {
     "name": "stdout",
     "output_type": "stream",
     "text": [
      "(42115.44467924453+1.001240061133158e-13j) (4065659.7662610523+4.993298510140643e-12j) (395450102.7630671-5.6492550806788945e-11j)\n"
     ]
    }
   ],
   "source": [
    "f100s2 = np.fft.rfft(n100s2)\n",
    "f1ks2 = np.fft.rfft(n1ks2)\n",
    "f10ks2 = np.fft.rfft(n10ks2)\n",
    "pf100s2 = np.sum(f100s2.conjugate() * f100s2)\n",
    "pf1ks2 = np.sum(f1ks2.conjugate() * f1ks2)\n",
    "pf10ks2 = np.sum(f10ks2.conjugate() * f10ks2)\n",
    "print(2 * pf100s2, 2 * pf1ks2, 2 * pf10ks2)"
   ]
  },
  {
   "cell_type": "markdown",
   "id": "b994068c-af6a-4f26-91e7-9a99b16366d2",
   "metadata": {},
   "source": [
    "Those are just four times the $\\sigma=1$ values, as expected."
   ]
  },
  {
   "cell_type": "code",
   "execution_count": null,
   "id": "5012f015-fdfe-4d94-96fa-200a3d8beb02",
   "metadata": {},
   "outputs": [],
   "source": []
  }
 ],
 "metadata": {
  "kernelspec": {
   "display_name": "Python 3 (ipykernel)",
   "language": "python",
   "name": "python3"
  },
  "language_info": {
   "codemirror_mode": {
    "name": "ipython",
    "version": 3
   },
   "file_extension": ".py",
   "mimetype": "text/x-python",
   "name": "python",
   "nbconvert_exporter": "python",
   "pygments_lexer": "ipython3",
   "version": "3.10.9"
  }
 },
 "nbformat": 4,
 "nbformat_minor": 5
}
