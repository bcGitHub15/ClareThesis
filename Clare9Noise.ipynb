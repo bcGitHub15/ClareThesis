{
 "cells": [
  {
   "cell_type": "markdown",
   "id": "db817fff-f02f-43c5-8c89-ac9997bd77f5",
   "metadata": {},
   "source": [
    "# Noise in Fourier Systems\n",
    "\n",
    "# ERRONEOUS\n",
    "## Something went slightly wrong in this version. Please see Clare10 instead.\n",
    "\n",
    "Our goal is to understand Keith's noise statistic. In his review paper he states that given a real data stream $\\left[d_j:0\\le{}j\\lt{}N\\right]$ and a discrete Fourier transform (DFT) given by the set of complex $D_k$ defined by\n",
    "$$D_k = \\sum_{j=0}^{N-1}d_{j}e^{-i2\\pi{}kj/N}$$\n",
    "then the $\\left[S_k:0\\le{}k\\lt{}N/2\\right]$ is a suitable one sided power spectral noise density estimate for the noise in frequency channel k, where\n",
    "$$S_k = \\dfrac{2\\left<|D_k|^{2}\\right>T_{obs}}{N^2}$$\n",
    "and the term in angle brackets is \"determined from an average over many nearby bins and excluding the bin (i) itself\" (original used i, which risks confusion with the imaginary unit)."
   ]
  },
  {
   "cell_type": "markdown",
   "id": "a21def96-fe08-45c9-bd1b-46bba4210959",
   "metadata": {},
   "source": [
    "Our goal is to understand the terms in this expression, in particular the factor of $N^2$ in the the denominator. We believe that we start from Parseval's Theorem which\n",
    "states that \n",
    "$$\\sum_{j=0}^{N-1}d_j^2= \\dfrac{1}{N}\\sum_{k=0}^{N-1}|D_k|^2$$\n",
    "where the $1/N$ prefactor arises from the normalization of the inverse DFT\n",
    "$$d_j = \\dfrac{1}{N}\\sum_{k=0}^{N-1}D_{k}e^{+i2\\pi{}jk/N}.$$\n",
    "\n",
    "This is going to make sense in our context if we look at the total energy recorded in the data stream. We start from the idea that the instantaneous power in the signal is proportional to $d_j^2$ and write, in suitable units, $P_j=d_j^2$. In that case the total energy in the N samples of the signal is given by\n",
    "$$E_{tot}=\\sum_{j=0}^{N-1}P_j \\delta{}t =\\sum_{j=0}^{N-1}d_j^2 \\delta{}t$$\n",
    "where $\\delta{}t$ is the time interval between samples. Writing $N\\delta{}t=T_{obs}$, where $T_{obs}$ is the total observation time, we have\n",
    "$$E_{tot}=\\dfrac{\\sum_{j=0}^{N-1}d_j^2 T_{obs}}{N}$$"
   ]
  },
  {
   "cell_type": "markdown",
   "id": "b29927cc-c6f4-4560-8c96-6d2f16a01990",
   "metadata": {},
   "source": [
    "Now, since the average total power is the total energy divided by the total time we get\n",
    "$$P_{tot}=\\dfrac{E_{tot}}{T_{obs}}=\\dfrac{\\sum_{j=0}^{N-1}d_j^2}{N}$$\n",
    "which we can then write, using Parseval's Theorem as\n",
    "$$P_{tot}=\\dfrac{\\sum_{k=0}^{N-1}|D_k|^2}{N^2}$$\n",
    "Finally, we seek the power *density*, that is, the power per unit frequency. Well the complete range of frequencies in the Fourier components runs from 0 to the Nyquist Frequency = $1/2T_{obs}$ so that the spectral power density becomes\n",
    "$$S_{tot}=\\dfrac{P_{tot}}{F_{Nyquist}}=\\dfrac{2\\sum_{k=0}^{N-1}|D_k|^{2}T_{obs}}{N^2}$$\n",
    "Now this is an estimate for the TOTAL noise in the Fourier spectrum and the quantity $S_k$ is defined as an estimate of the noise in channel k of the Fourier spectrum. Since there are N channels (because he says that this is a single-sided estimate so we have $-N/2\\rightarrow{}N/2$ channels) the average noise density per channel becomes\n",
    "$$S_k = \\dfrac{S_{tot}}{N}==\\dfrac{2\\sum_{k=0}^{N-1}|D_k|^{2}T_{obs}}{N^3}$$\n",
    "Then noting that the mean value of $|D_k|^{2}$ is given by $$N\\left<|D_k|^{2}\\right>=\\sum_{k=0}^{N-1}|D_k|^{2}$$\n",
    "we end up with\n",
    "$$S_k = \\dfrac{2\\left<|D_k|^{2}\\right>T_{obs}}{N^2}$$\n",
    "exactly as in Keith's paper."
   ]
  },
  {
   "cell_type": "code",
   "execution_count": null,
   "id": "d257c9bd-a996-4e23-a1fb-db755c78d180",
   "metadata": {},
   "outputs": [],
   "source": []
  }
 ],
 "metadata": {
  "kernelspec": {
   "display_name": "Python 3 (ipykernel)",
   "language": "python",
   "name": "python3"
  },
  "language_info": {
   "codemirror_mode": {
    "name": "ipython",
    "version": 3
   },
   "file_extension": ".py",
   "mimetype": "text/x-python",
   "name": "python",
   "nbconvert_exporter": "python",
   "pygments_lexer": "ipython3",
   "version": "3.10.9"
  }
 },
 "nbformat": 4,
 "nbformat_minor": 5
}
