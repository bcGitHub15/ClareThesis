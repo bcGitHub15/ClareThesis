{
 "cells": [
  {
   "cell_type": "markdown",
   "id": "a379c0ef-e234-475f-b856-bccc272c21c3",
   "metadata": {
    "tags": []
   },
   "source": [
    "# Spectral Power Density\n",
    "\n",
    "In the review article, Keith starts from the statistic\n",
    "$$S_k = \\dfrac{2\\left<|\\tilde{D}_k|^{2}\\right>T_{obs}}{N^2}$$\n",
    "which Keith calls \"the one-sided power spectral noise density estimate\" and notes that the term in angle brackets is \"determined from an average over many nearby bins and excluding the bin (i) itself\" (original used i, which risks confusion with the imaginary unit).\n",
    "\n",
    "We are struggling with this choice (in large part because of the $N^2$ in the denominator) and so I want to explore the idea of spectral power density in the context of a real world signal $\\left\\{d_j:0\\le{}j\\lt{}N\\right\\}$ and its Discrete Fourier Transform (DFT) defined by\n",
    "$$\\tilde{D}_k = \\sum_{j=0}^{N-1}d_{j}e^{-i2\\pi{}kj/N}$$\n",
    "where $\\left\\{\\tilde{D}_k:0\\le{}k\\lt{}N\\right\\}$ are the complex Fourier coefficients and I think that Keith is using the tilde to mark the complex nature of the coefficients.\n",
    "\n",
    "NOTE: Because we are going to end up dealing with a purely real signal we will end up with duplication in the Fourier coefficients which will mean that the Python *rfft* function will return N/2 complex values rather than the full N values. This will lead to some correction factors of 2 later on. For the moment we will ignore this subtlety and deal with the general case where both the $d_j$ and the $\\tilde{D}_k$ can be complex and there are the full N values of $\\tilde{D}_k$."
   ]
  },
  {
   "cell_type": "markdown",
   "id": "f8f6b154-0f1c-49fa-bdf7-f2d2e8cf6943",
   "metadata": {},
   "source": [
    "## The Inverse Transform\n",
    "\n",
    "With the above definition of the DFT, the inverse transform is given by\n",
    "$$d_j = \\dfrac{1}{N}\\sum_{k=0}^{N-1}\\tilde{D}_{k}e^{+i2\\pi{}jk/N},$$\n",
    "where the 1/N prefactor is need to ensure normalization.\n",
    "\n",
    "With a little care we can verify this normalization by performing both a forward and inverse transform. Substituting the $\\tilde{D}_k$ expression into the inverse transform we get\n",
    "$$d_j = \\dfrac{1}{N}\\sum_{k=0}^{N-1}\\sum_{\\ell=0}^{N-1}d_{\\ell}e^{-i2\\pi{}kj/N}e^{+i2\\pi{}\\ell{}k/N}.$$\n",
    "Now re-arrange the summation order to give\n",
    "$$d_j = \\dfrac{1}{N}\\sum_{\\ell=0}^{N-1}d_{\\ell}\\sum_{k=0}^{N-1}e^{-i2\\pi{}kj/N}e^{+i2\\pi{}\\ell{}k/N}$$\n",
    "or, noting that multiplication is commutative,\n",
    "$$d_j = \\dfrac{1}{N}\\sum_{\\ell=0}^{N-1}d_{\\ell}\\sum_{k=0}^{N-1}e^{i2\\pi{}k(j-\\ell)/N}.$$\n",
    "We are now supposed to recognize that second sum as being related to the Kronecker delta. The argument can be phrased in various ways, as a sum over the complex roots of unity or as an expression of the orthogonality of sines and cosines but it comes down to noting that\n",
    "$$\\sum_{k=0}^{N-1}e^{i2\\pi{}k(j-\\ell)/N}=\\left\\{\\begin{array}{cc}\n",
    "j\\ne\\ell & 0\\\\\n",
    "j=\\ell & \\sum_{k=0}^{N-1}1=N \\end{array} \\right.$$\n",
    "so that \n",
    "$$\\sum_{k=0}^{N-1}e^{i2\\pi{}k(j-\\ell)/N}=N\\delta_{j,\\ell}.$$\n",
    "Substituting this back into the expression for $d_j$ we get\n",
    "$$d_j = \\dfrac{1}{N}\\sum_{\\ell=0}^{N-1}d_{\\ell}N\\delta_{j,\\ell}=d_j.$$\n",
    "This confirms that our forward and inverse transforms are consistently normalized.\n",
    "\n",
    "NOTE: since the complex roots of unity are arranged symmetrically and uniformly around the unit circle in the complex plane. Since they occur in pairs of the form $z_n$ and $-z_n$ a sum over all the roots will yield zero as the pairs all cancel."
   ]
  },
  {
   "cell_type": "markdown",
   "id": "836c9a6a-d6c8-41dc-8158-194e6fa5b147",
   "metadata": {},
   "source": [
    "## Parseval's Theorem\n",
    "\n",
    "Parseval's Theorem relates the sums of the squared magnitudes of the real and Fourier components. In discrete form it states\n",
    "$$\\sum_{j=0}^{N-1}|d_j|^2= \\dfrac{1}{N}\\sum_{k=0}^{N-1}|\\tilde{D}_k|^2$$\n",
    "which we can prove by direct substitution. Wikipedia will show yo uone way to prove this. Here is a different way.\n",
    "\n",
    "I start by noting that\n",
    "$$|d_j|^2=d_j^* d_j$$\n",
    "and then using the inverse Fourier transform to write\n",
    "$$|d_j|^2=\\dfrac{1}{N}\\sum_{k=0}^{N-1}\\tilde{D}_{k}^* e^{-i2\\pi{}jk/N} \\dfrac{1}{N}\\sum_{\\ell=0}^{N-1}\\tilde{D}_{\\ell}e^{+i2\\pi{}j\\ell{}/N}$$\n",
    "so that\n",
    "$$\\sum_{j=0}^{N-1}|d_j|^2=\\sum_{j=0}^{N-1} \\dfrac{1}{N}\\sum_{k=0}^{N-1}\\tilde{D}_{k}^* e^{-i2\\pi{}jk/N} \\dfrac{1}{N}\\sum_{\\ell=0}^{N-1}\\tilde{D}_{\\ell}e^{+i2\\pi{}j\\ell{}/N}.$$\n",
    "Once again we re-order the terms to get\n",
    "$$\\sum_{j=0}^{N-1}|d_j|^2=\\dfrac{1}{N^2}\\sum_{k=0}^{N-1}\\sum_{\\ell=0}^{N-1} \\tilde{D}_{k}^* \\tilde{D}_{\\ell} \\sum_{j=0}^{N-1} e^{-i2\\pi{}jk/N} e^{+i2\\pi{}j\\ell{}/N}.$$\n",
    "Now we recognize the Kronecker delta that we encountered above so that we can write\n",
    "$$\\sum_{j=0}^{N-1}|d_j|^2=\\dfrac{1}{N^2}\\sum_{k=0}^{N-1}\\sum_{\\ell=0}^{N-1} \\tilde{D}_{k}^* \\tilde{D}_{\\ell} N\\delta_{j,\\ell}.$$\n",
    "Finally, we re-arrange to perform the sum over $\\ell$ first and find\n",
    "$$\\sum_{j=0}^{N-1}|d_j|^2=\\dfrac{1}{N^2}\\sum_{k=0}^{N-1} \\tilde{D}_{k}^* \\sum_{\\ell=0}^{N-1}\\tilde{D}_{\\ell} N\\delta_{j,\\ell}=\\dfrac{1}{N}\\sum_{k=0}^{N-1} \\tilde{D}_{k}^* \\tilde{D}_k = \\dfrac{1}{N}\\sum_{k=0}^{N-1} |\\tilde{D}_k|^2,$$\n",
    "exactly as desired.\n",
    "\n",
    "This confirms that the normalization of Parseval's theorem is also consistent with our DFT pair."
   ]
  },
  {
   "cell_type": "markdown",
   "id": "52739499-2519-4753-b848-42a84ad0ff5a",
   "metadata": {},
   "source": [
    "## Energy\n",
    "\n",
    "I am going to start by looking at a simple classical case. We will apply a voltage V(t) to a resistor R over a period $T_{obs}$. When a voltage V is applied to a resistor R there is an instantaneous power dissipation\n",
    "$$P(t)=\\dfrac{V(t)^2}{R}$$\n",
    "so that, over the total observation time the energy dissipated is\n",
    "$$E_{tot}=\\int_{0}^{T_{obs}} \\dfrac{V(t)^2}{R} dt$$\n",
    "and the average power\n",
    "$$P_{av}=\\dfrac{1}{T_{obs}}\\int_{0}^{T_{obs}} \\dfrac{V(t)^2}{R} dt$$\n",
    "\n",
    "If now we do not have a continuous function V(t) but instead measure the voltage at a set of N discrete times we have a set of samples $\\left\\{ V_j : 0 \\le j \\lt N \\right\\}$ taken at times $t_j = j \\delta{}t$, where $\\delta{}t = T_{obs}/N$ (give or take a 1, assumed negligible compared to N).\n",
    "\n",
    "This means that when we find the energy we have to take into account the fact that we are only measuring the power at discrete intervals and approximate \n",
    "$$\\int_{t_j}^{t_{j+1}} V(t)^2 dt = {V_j}^2 \\delta{}t$$\n",
    "so that we compute the total energy as \n",
    "$$E_{tot} = \\int_{0}^{T_{obs}} \\dfrac{V(t)^2}{R} dt = \\sum_{j=0}^{N-1} \\dfrac{{V_j}^2}{R} \\delta{}t$$\n",
    "and the average power is given by\n",
    "$$P_{av} = \\dfrac{1}{T_{obs}} \\sum_{j=0}^{N-1} \\dfrac{{V_j}^2}{R} \\delta{}t = \\dfrac{1}{N} \\sum_{j=0}^{N-1} \\dfrac{{V_j}^2}{R},$$\n",
    "which is really not terribly surprising as it is simply the average of the instantaneous power measurements. It is interesting that it does not depend on the observation time."
   ]
  },
  {
   "cell_type": "markdown",
   "id": "9e3cc670-b711-4f6b-9df3-a8fdf243dfb2",
   "metadata": {
    "tags": []
   },
   "source": [
    "### Energy in the Fourier Domain\n",
    "\n",
    "Now we can use Parseval's Theorem to compute the energy and the average power in the Fourier domain. First we define the Fourier transform of our voltage signal\n",
    "$$\\mathscr{V}_k = \\sum_{j=0}^{N-1}V_{j}e^{-i2\\pi{}kj/N}$$\n",
    "then we use Parsevals' theorem in the form\n",
    "$$\\sum_{j=0}^{N-1} {{V_j}^2} = \\dfrac{1}{N} \\sum_{k=0}^{N-1} |\\mathscr{V}_k|^2$$\n",
    "to write\n",
    "$$P_{av} = \\dfrac{1}{N^2} \\sum_{j=0}^{N-1} \\dfrac{|\\mathscr{V}_k|^2}{R}.$$\n",
    "The interesting thing about this is the square in the denominator. It may be the factor of N that we are seeking."
   ]
  },
  {
   "cell_type": "markdown",
   "id": "aa3d7c42-fa9f-4716-8e3f-67d1b9394d07",
   "metadata": {},
   "source": [
    "### \"Energy\" in the Gravitional Wave Context\n",
    "\n",
    "The key idea in all energies is that the energy at some instant is proportional to the square of the signal value. Since the proportionality constant is invariant, it is common in many signal-processing contexts to omit that constant, which serves only to get the units correct. Thus it is common to use $P = amp^2$ rather than carrying round some complicated constant to get the units right.\n",
    "\n",
    "In the context of Keith's review paper, where our signal values are the $d_j$ that measure a difference of distances, this means that we call $d^2$ a power, even though it actually has the units of area! Thus the average power is given in terms of the signal values, $d_j$, by\n",
    "$$P_{av} = \\dfrac{1}{N} \\sum_{j=0}^{N-1} {d_j}^2$$\n",
    "and in terms of the Fourier components, $\\tilde{D}_k$, by\n",
    "$$P_{av} = \\dfrac{1}{N^2} \\sum_{j=0}^{N-1} |\\tilde{D}_k|^2.$$"
   ]
  },
  {
   "cell_type": "markdown",
   "id": "e5c817f1-49cc-48ae-906c-f18f343ff8a1",
   "metadata": {},
   "source": [
    "# Spectral Power Density\n",
    "\n",
    "Now that we have a total power, we can move on to a power density. This is defined, according to Wikipedia, as the power power power unit frequency or the energy per unit time per unit frequency. So all we have to do is figure out the range of frequencies present in the signal.\n",
    "\n",
    "Our signal is given as a set of equally spaced samples, spaced time $\\delta{}t = T_{obs}/N$ apart. According to Nyquist's theorem, we need a minimum of two samples to determine the parameters of a frequency component. This means that we can extract information about all frequencies up to the Nyquist frequency, $f_N = 1/(2\\delta{}t)$. That means that our Power Spectral Density is given by\n",
    "$$S=\\dfrac{P_{av}}{f_N}=P_{av}\\times{}(2\\delta{}t)=\\dfrac{2 P_{av} T_{obs}}{N}$$ \n",
    "so that, substituting our Fourier expression for the average power\n",
    "$$S=\\dfrac{2}{N^3} \\sum_{j=0}^{N-1} |\\tilde{D}_k|^2 T_{obs}.$$"
   ]
  },
  {
   "cell_type": "markdown",
   "id": "5eca8c71-607d-4032-874a-99a68ea11e82",
   "metadata": {},
   "source": [
    "The last step leading to Keith's expression is to re-write this\n",
    "$$S=\\dfrac{2}{N^2} \\dfrac{\\sum_{j=0}^{N-1} |\\tilde{D}_k|^2}{N} T_{obs}$$\n",
    "and then to recognize the fraction as the average value of $|\\tilde{D}_k|^2$, denoted by Keith as $\\left<|\\tilde{D}_k|^2\\right>$, so that we end up with\n",
    "$$S=\\dfrac{2}{N^2} \\left<|\\tilde{D}_k|^2\\right> T_{obs},$$\n",
    "which is equivalent to Keith's expression!"
   ]
  },
  {
   "cell_type": "code",
   "execution_count": null,
   "id": "0a445162-bacd-4f36-84a9-5445f9a943d5",
   "metadata": {},
   "outputs": [],
   "source": []
  }
 ],
 "metadata": {
  "kernelspec": {
   "display_name": "Python 3 (ipykernel)",
   "language": "python",
   "name": "python3"
  },
  "language_info": {
   "codemirror_mode": {
    "name": "ipython",
    "version": 3
   },
   "file_extension": ".py",
   "mimetype": "text/x-python",
   "name": "python",
   "nbconvert_exporter": "python",
   "pygments_lexer": "ipython3",
   "version": "3.10.9"
  }
 },
 "nbformat": 4,
 "nbformat_minor": 5
}
